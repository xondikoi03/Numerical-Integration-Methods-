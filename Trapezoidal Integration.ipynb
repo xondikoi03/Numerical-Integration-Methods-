{
 "cells": [
  {
   "cell_type": "code",
   "execution_count": 11,
   "id": "60a6616c",
   "metadata": {},
   "outputs": [],
   "source": [
    "# defining the function\n",
    "\n",
    "def f(x):\n",
    "    func1 = ((x**2) - 1)**0.5\n",
    "    func2 = x/func1\n",
    "    \n",
    "    return func2"
   ]
  },
  {
   "cell_type": "code",
   "execution_count": 12,
   "id": "e2714a61",
   "metadata": {},
   "outputs": [],
   "source": [
    "# defining trapezoidal function\n",
    "\n",
    "def trapezoidal(a, b, n):\n",
    "    \n",
    "    h = (b-a)/n\n",
    "    \n",
    "    I = f(a) + f(b)\n",
    "    \n",
    "    for i in range(1,n):\n",
    "        inc = a + i*h\n",
    "        I = I + 2*f(inc)\n",
    "    \n",
    "    I = (h/2)*I\n",
    "    \n",
    "    return I"
   ]
  },
  {
   "cell_type": "code",
   "execution_count": 13,
   "id": "a4979982",
   "metadata": {},
   "outputs": [],
   "source": [
    "a = 2\n",
    "b = 10\n",
    "n = 10000000"
   ]
  },
  {
   "cell_type": "code",
   "execution_count": 14,
   "id": "eac81f8e",
   "metadata": {},
   "outputs": [
    {
     "name": "stdout",
     "output_type": "stream",
     "text": [
      "8.217823563497591\n"
     ]
    }
   ],
   "source": [
    "print(trapezoidal(a,b,n))"
   ]
  }
 ],
 "metadata": {
  "kernelspec": {
   "display_name": "Python 3 (ipykernel)",
   "language": "python",
   "name": "python3"
  },
  "language_info": {
   "codemirror_mode": {
    "name": "ipython",
    "version": 3
   },
   "file_extension": ".py",
   "mimetype": "text/x-python",
   "name": "python",
   "nbconvert_exporter": "python",
   "pygments_lexer": "ipython3",
   "version": "3.11.6"
  }
 },
 "nbformat": 4,
 "nbformat_minor": 5
}
