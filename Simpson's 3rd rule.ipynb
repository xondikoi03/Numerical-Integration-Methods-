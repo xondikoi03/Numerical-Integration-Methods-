{
 "cells": [
  {
   "cell_type": "code",
   "execution_count": 81,
   "id": "72cb6e39",
   "metadata": {},
   "outputs": [],
   "source": [
    "#defining the function\n",
    "\n",
    "def f(x):\n",
    "    func1 = ((x**2) - 1)**0.5\n",
    "    func2 = x/func1\n",
    "    \n",
    "    return func2"
   ]
  },
  {
   "cell_type": "code",
   "execution_count": 82,
   "id": "0f4e2d0f",
   "metadata": {},
   "outputs": [],
   "source": [
    "# defining simpson's 1/3 rule\n",
    "\n",
    "def simpsons(a, b, n):\n",
    "    h = (a-b)/n\n",
    "\n",
    "    I = f(a) + f(b) \n",
    "    \n",
    "    for i in range(1,n):\n",
    "        \n",
    "        inc_k = b + i*h\n",
    "        \n",
    "        if i%2==0:\n",
    "            I = I + 2*f(inc_k) # even terms\n",
    "        else:\n",
    "            I = I + 4*f(inc_k) # odd terms\n",
    "     \n",
    "    I = (h/3) * I\n",
    "    return I"
   ]
  },
  {
   "cell_type": "code",
   "execution_count": 83,
   "id": "84298507",
   "metadata": {},
   "outputs": [
    {
     "name": "stdout",
     "output_type": "stream",
     "text": [
      "8.217823563497305\n"
     ]
    }
   ],
   "source": [
    "a = 10 #upper limit\n",
    "b = 2 #lower limit\n",
    "n = 10000 # no. of steps\n",
    "\n",
    "print(simpsons(a, b, n))"
   ]
  },
  {
   "cell_type": "code",
   "execution_count": null,
   "id": "9eca7660",
   "metadata": {},
   "outputs": [],
   "source": []
  },
  {
   "cell_type": "code",
   "execution_count": null,
   "id": "d61ae98f",
   "metadata": {},
   "outputs": [],
   "source": []
  }
 ],
 "metadata": {
  "kernelspec": {
   "display_name": "Python 3 (ipykernel)",
   "language": "python",
   "name": "python3"
  },
  "language_info": {
   "codemirror_mode": {
    "name": "ipython",
    "version": 3
   },
   "file_extension": ".py",
   "mimetype": "text/x-python",
   "name": "python",
   "nbconvert_exporter": "python",
   "pygments_lexer": "ipython3",
   "version": "3.11.6"
  }
 },
 "nbformat": 4,
 "nbformat_minor": 5
}
